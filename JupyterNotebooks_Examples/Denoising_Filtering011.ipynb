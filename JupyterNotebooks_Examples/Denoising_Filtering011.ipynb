{
 "cells": [
  {
   "cell_type": "markdown",
   "id": "db3d20a3",
   "metadata": {},
   "source": [
    "# Import the required libraries <a class=\"anchor\" id=\"import_libraries\"></a>"
   ]
  },
  {
   "cell_type": "code",
   "execution_count": null,
   "id": "66a35896",
   "metadata": {
    "tags": []
   },
   "outputs": [],
   "source": [
    "%matplotlib widget\n",
    "import hyperspy.api as hs\n",
    "import numpy as np\n",
    "import matplotlib as mpl\n",
    "from mpl_toolkits.axes_grid1 import make_axes_locatable\n",
    "import matplotlib.pyplot as plt\n",
    "import atomap.api as am\n",
    "import tkinter as tk\n",
    "from tkinter.filedialog import askopenfilename\n",
    "import os\n",
    "hs.preferences.GUIs.warn_if_guis_are_missing = False\n",
    "hs.preferences.save()\n",
    "plt.rcParams['figure.figsize'] = (8,8)"
   ]
  },
  {
   "cell_type": "markdown",
   "id": "3155fb17",
   "metadata": {},
   "source": [
    "# Open files<a class=\"anchor\" id=\"open_files\"></a>\n",
    "- Heterostructure HAADF image .tif (16 bits grayscale)\n",
    "<br>"
   ]
  },
  {
   "cell_type": "code",
   "execution_count": null,
   "id": "7cee9ad3",
   "metadata": {},
   "outputs": [],
   "source": [
    "root = tk.Tk()\n",
    "root.attributes('-topmost',True)\n",
    "root.iconify()   \n",
    "file_path = askopenfilename(parent=root)\n",
    "root.destroy()\n",
    "#s=hs.load(file_path)\n",
    "s=hs.signals.Signal2D(plt.imread(file_path))\n",
    "path = os.path.splitext(file_path)[0]\n",
    "if not (os.path.exists(path)):\n",
    "    os.mkdir(path)"
   ]
  },
  {
   "cell_type": "markdown",
   "id": "7293f2a0",
   "metadata": {
    "tags": []
   },
   "source": [
    "## Axes scaling (pixel distance) <a class=\"anchor\" id=\"pixel_distance\"></a>\n",
    "\n",
    "> **`pixel_size_nm`**: pixel size in nanometers.\n",
    "<br>\n",
    ">An aspect ratio of 1 is assumed."
   ]
  },
  {
   "cell_type": "code",
   "execution_count": null,
   "id": "3a9088de",
   "metadata": {},
   "outputs": [],
   "source": [
    "#pixel_size_pm=float(input('pixel_size_pm: '))\n",
    "pixel_size_pm=6.652\n",
    "\n",
    "s.axes_manager[0].name = 'X'\n",
    "s.axes_manager[1].name = 'Y'\n",
    "s.axes_manager[0].scale = pixel_size_pm/1000\n",
    "s.axes_manager[1].scale = pixel_size_pm/1000\n",
    "s.axes_manager[0].units = 'nm'\n",
    "s.axes_manager[1].units = 'nm'\n",
    "s.metadata.General.title = ''\n",
    "s.plot(colorbar=False)\n",
    "ax=plt.gca()\n",
    "norm = mpl.colors.Normalize(vmin=np.min(s.data), vmax=np.max(s.data))\n",
    "divider = make_axes_locatable(ax)\n",
    "cax = divider.append_axes(\"right\", size=\"10%\", pad=0.15)\n",
    "plt.colorbar(mpl.cm.ScalarMappable(norm=norm, cmap='Greys_r'),ax=ax, pad=.05, fraction=.1,cax=cax)\n",
    "plt.tight_layout()"
   ]
  },
  {
   "cell_type": "markdown",
   "id": "2263dabe",
   "metadata": {},
   "source": [
    "## Intensity scaling (pixel intensity) <a class=\"anchor\" id=\"pixel_intensity\"></a>\n",
    "\n",
    "- Detector image .tif (16 bits grayscale) - for the normalization to the impinging beam.\n",
    "\n",
    "> **`inner_angle`**: inner collection angle in mrads.\n",
    "<br>\n",
    "> **`outer_angle`**: outer collection angle in mrads.\n",
    "<br>"
   ]
  },
  {
   "cell_type": "code",
   "execution_count": null,
   "id": "b6c82669",
   "metadata": {},
   "outputs": [],
   "source": [
    "inner_angle=130\n",
    "outer_angle=200\n",
    "\n",
    "root = tk.Tk()\n",
    "root.attributes('-topmost',True)\n",
    "root.iconify()   \n",
    "det_image = askopenfilename(parent=root)\n",
    "root.destroy()\n",
    "#det_image=hs.load(det_image)\n",
    "det_image=hs.signals.Signal2D(plt.imread(det_image))\n",
    "s_normalised = am.quant.detector_normalisation(s, det_image, inner_angle=inner_angle, outer_angle=outer_angle)\n",
    "s_normalised.plot(colorbar=False)\n",
    "ax=plt.gca()\n",
    "norm = mpl.colors.Normalize(vmin=np.min(s_normalised.data), vmax=np.max(s_normalised.data))\n",
    "divider = make_axes_locatable(ax)\n",
    "cax = divider.append_axes(\"right\", size=\"10%\", pad=0.15)\n",
    "plt.colorbar(mpl.cm.ScalarMappable(norm=norm, cmap='Greys_r'),ax=ax, pad=.05, fraction=.1,cax=cax)\n",
    "plt.tight_layout()"
   ]
  },
  {
   "cell_type": "code",
   "execution_count": null,
   "id": "587d2e24-3afe-4a31-a87c-676da9f1d13f",
   "metadata": {},
   "outputs": [],
   "source": [
    "plt.savefig(path+'\\\\normalized_image.png',dpi=512,transparent=True,bbox_inches='tight')"
   ]
  },
  {
   "cell_type": "markdown",
   "id": "158fb1cc",
   "metadata": {},
   "source": [
    "# Denoising <a class=\"anchor\" id=\"denoising\"></a>\n",
    "> **`pixels_cropped`**: pixels to be cropped from the outer frame to remove side effects of the drift correction and RL denoising."
   ]
  },
  {
   "cell_type": "code",
   "execution_count": null,
   "id": "63245466",
   "metadata": {},
   "outputs": [],
   "source": [
    "from skimage.restoration import estimate_sigma\n",
    "\n",
    "pixels_cropped=32\n",
    "original_imag=s_normalised.data\n",
    "sigma_est = np.mean(estimate_sigma(original_imag[pixels_cropped:-pixels_cropped,pixels_cropped:-pixels_cropped]))\n",
    "print(f'estimated noise standard deviation = {sigma_est}')\n",
    "fig, ax = plt.subplots(figsize=(12,8))\n",
    "ax.set_title('Original Image')\n",
    "ax.imshow(original_imag[pixels_cropped:-pixels_cropped,pixels_cropped:-pixels_cropped], cmap='gray')\n",
    "ax.axis('off')\n"
   ]
  },
  {
   "cell_type": "code",
   "execution_count": null,
   "id": "7062a842",
   "metadata": {},
   "outputs": [],
   "source": [
    "plt.savefig(path+'\\\\original'+'_'+str(round(sigma_est,12))+'.png',dpi=512,transparent=True,bbox_inches='tight')"
   ]
  },
  {
   "cell_type": "markdown",
   "id": "b3341f35",
   "metadata": {},
   "source": [
    "- PCA (Principal Component Analysis):\n",
    "\n",
    "> **`n_components`**: number of components in PCA."
   ]
  },
  {
   "cell_type": "code",
   "execution_count": null,
   "id": "271df16c",
   "metadata": {},
   "outputs": [],
   "source": [
    "from sklearn import decomposition\n",
    "\n",
    "n_components=8\n",
    "pca = decomposition.PCA(n_components=n_components)\n",
    "pca.fit(original_imag)\n",
    "pcaFaces = pca.transform(original_imag)\n",
    "pca_imag = pca.inverse_transform(pcaFaces)"
   ]
  },
  {
   "cell_type": "code",
   "execution_count": null,
   "id": "23b1262d",
   "metadata": {},
   "outputs": [],
   "source": [
    "sigma_est = np.mean(estimate_sigma(pca_imag[pixels_cropped:-pixels_cropped,pixels_cropped:-pixels_cropped]))\n",
    "print(f'estimated noise standard deviation = {sigma_est}')\n",
    "fig, ax = plt.subplots(figsize=(12,8), nrows=1, ncols=3)\n",
    "\n",
    "ax[0].set_title('Original Image')\n",
    "ax[0].imshow(original_imag[pixels_cropped:-pixels_cropped,pixels_cropped:-pixels_cropped], cmap='gray')\n",
    "ax[0].axis('off')\n",
    "\n",
    "\n",
    "ax[1].set_title('PCA Image '+str(n_components)+' components')\n",
    "ax[1].imshow(pca_imag[pixels_cropped:-pixels_cropped,pixels_cropped:-pixels_cropped], cmap='gray')\n",
    "ax[1].axis('off')\n",
    "\n",
    "ax[2].set_title('Residuals')\n",
    "ax[2].imshow(original_imag[pixels_cropped:-pixels_cropped,pixels_cropped:-pixels_cropped]-pca_imag[pixels_cropped:-pixels_cropped,pixels_cropped:-pixels_cropped], cmap='gray')\n",
    "ax[2].axis('off')\n",
    "\n",
    "fig.tight_layout()\n",
    "plt.show()"
   ]
  },
  {
   "cell_type": "code",
   "execution_count": null,
   "id": "e378aeec",
   "metadata": {},
   "outputs": [],
   "source": [
    "plt.savefig(path+'\\\\PCA'+str(n_components)+'_'+str(round(sigma_est,12))+'.png',dpi=512,transparent=True,bbox_inches='tight')"
   ]
  },
  {
   "cell_type": "markdown",
   "id": "1ccfc895",
   "metadata": {},
   "source": [
    "- NL means (Non-local means):\n",
    "\n",
    "> **`h`**: cut-off distance (in gray levels).\n",
    "<br>\n",
    "> **`patch_size`**: size of patches used for denoising.\n",
    "<br>\n",
    "> **`patch_distance`**: maximal distance in pixels where to search patches used for denoising."
   ]
  },
  {
   "cell_type": "code",
   "execution_count": null,
   "id": "29d611f7",
   "metadata": {},
   "outputs": [],
   "source": [
    "from skimage.restoration import denoise_nl_means\n",
    "\n",
    "sigma_est = np.mean(estimate_sigma(original_imag[pixels_cropped:-pixels_cropped,pixels_cropped:-pixels_cropped]))\n",
    "h=5\n",
    "patch_size=5\n",
    "patch_distance=6\n",
    "nlm_imag = denoise_nl_means(original_imag, h=h*sigma_est, fast_mode=True,patch_size=patch_size,patch_distance=patch_distance)"
   ]
  },
  {
   "cell_type": "code",
   "execution_count": null,
   "id": "0bf0aba6",
   "metadata": {},
   "outputs": [],
   "source": [
    "sigma_est = np.mean(estimate_sigma(nlm_imag[pixels_cropped:-pixels_cropped,pixels_cropped:-pixels_cropped]))\n",
    "print(f'estimated noise standard deviation = {sigma_est}')\n",
    "fig, ax = plt.subplots(figsize=(12,8), nrows=1, ncols=3)\n",
    "\n",
    "ax[0].set_title('Original Image')\n",
    "ax[0].imshow(original_imag[pixels_cropped:-pixels_cropped,pixels_cropped:-pixels_cropped], cmap='gray')\n",
    "ax[0].axis('off')\n",
    "\n",
    "\n",
    "ax[1].set_title(f'Non-local means denoising {h}$\\\\sigma$ patch {patch_size}-{patch_distance}')\n",
    "ax[1].imshow(nlm_imag[pixels_cropped:-pixels_cropped,pixels_cropped:-pixels_cropped], cmap='gray')\n",
    "ax[1].axis('off')\n",
    "\n",
    "ax[2].set_title('Residuals')\n",
    "ax[2].imshow(original_imag[pixels_cropped:-pixels_cropped,pixels_cropped:-pixels_cropped]-nlm_imag[pixels_cropped:-pixels_cropped,pixels_cropped:-pixels_cropped], cmap='gray')\n",
    "ax[2].axis('off')\n",
    "fig.tight_layout()\n",
    "plt.show()"
   ]
  },
  {
   "cell_type": "code",
   "execution_count": null,
   "id": "d6d7d8d3",
   "metadata": {},
   "outputs": [],
   "source": [
    "plt.savefig(path+'\\\\NLM_h'+str(h)+'_p'+str(patch_size)+'-'+str(patch_distance)+'_'+str(round(sigma_est,12))+'.png',dpi=512,transparent=True,bbox_inches='tight')"
   ]
  },
  {
   "cell_type": "markdown",
   "id": "4d6eb3e3",
   "metadata": {},
   "source": [
    "- RL deconvolution (Richardson-Lucy deconvolution):\n",
    "\n",
    "> **`probe_resolution`**: Probe resolution of the HAADF detector.\n",
    "<br>\n",
    "> **`iter`**: Number of iterations."
   ]
  },
  {
   "cell_type": "code",
   "execution_count": null,
   "id": "cbbdb8ee",
   "metadata": {},
   "outputs": [],
   "source": [
    "from scipy import signal\n",
    "from skimage.restoration import richardson_lucy\n",
    "\n",
    "def gkern(kernlen, std):\n",
    "    gkern1d = signal.gaussian(kernlen, std=std).reshape(kernlen, 1)\n",
    "    gkern2d = np.outer(gkern1d, gkern1d)\n",
    "    return gkern2d\n",
    "pixel_size=pixel_size_pm/1000\n",
    "probe_resolution=0.065\n",
    "width_pix=round(probe_resolution/pixel_size)\n",
    "gaussian_probe=gkern(4*width_pix,std=width_pix/2.348)\n",
    "plt.figure(figsize=(4,4))\n",
    "plt.imshow(gaussian_probe,cmap='gray')\n",
    "iter=5\n",
    "rl_imag = richardson_lucy(original_imag, gaussian_probe, iter)"
   ]
  },
  {
   "cell_type": "code",
   "execution_count": null,
   "id": "ecac6c2a",
   "metadata": {},
   "outputs": [],
   "source": [
    "sigma_est = np.mean(estimate_sigma(rl_imag[pixels_cropped:-pixels_cropped,pixels_cropped:-pixels_cropped]))\n",
    "print(f'estimated noise standard deviation = {sigma_est}')\n",
    "fig, ax = plt.subplots(figsize=(12,8), nrows=1, ncols=3)\n",
    "\n",
    "ax[0].set_title('Original Image')\n",
    "ax[0].imshow(original_imag[pixels_cropped:-pixels_cropped,pixels_cropped:-pixels_cropped], cmap='gray')\n",
    "ax[0].axis('off')\n",
    "\n",
    "\n",
    "ax[1].set_title(f'Deconvolved {iter} iter')\n",
    "ax[1].imshow(rl_imag[pixels_cropped:-pixels_cropped,pixels_cropped:-pixels_cropped], cmap='gray')\n",
    "ax[1].axis('off')\n",
    "\n",
    "ax[2].set_title('Residuals')\n",
    "ax[2].imshow(original_imag[pixels_cropped:-pixels_cropped,pixels_cropped:-pixels_cropped]-rl_imag[pixels_cropped:-pixels_cropped,pixels_cropped:-pixels_cropped], cmap='gray')\n",
    "ax[2].axis('off')\n",
    "fig.tight_layout()\n",
    "plt.show()"
   ]
  },
  {
   "cell_type": "code",
   "execution_count": null,
   "id": "c5d49cd4",
   "metadata": {},
   "outputs": [],
   "source": [
    "plt.savefig(path+'\\\\RL'+str(iter)+'iter_'+str(round(sigma_est,12))+'.png',dpi=512,transparent=True,bbox_inches='tight')"
   ]
  },
  {
   "cell_type": "markdown",
   "id": "84a0f248",
   "metadata": {},
   "source": [
    "# Get the sublattices <a class=\"anchor\" id=\"sublattices\"></a>\n",
    "\n",
    "> **`optimal_separation`**: separation in pixels to recognize the  brighter peaks (atom columns)."
   ]
  },
  {
   "cell_type": "code",
   "execution_count": null,
   "id": "7d78aa18",
   "metadata": {},
   "outputs": [],
   "source": [
    "s_normalised.data=original_imag[pixels_cropped:-pixels_cropped,pixels_cropped:-pixels_cropped]\n",
    "#optimal_separation=float(input('optimal_separation: '))\n",
    "optimal_separation=9\n",
    "\n",
    "atom_positions = am.get_atom_positions(s_normalised, optimal_separation,pca=True,subtract_background=True, normalize_intensity=True)\n",
    "sublattice = am.Sublattice(atom_positions, s_normalised)\n",
    "sublattice.get_atom_list_on_image(markersize=5).plot()\n",
    "ax = plt.gca()\n",
    "ax.get_xaxis().set_visible(False)\n",
    "ax.get_yaxis().set_visible(False)\n",
    "fig = plt.gcf()\n",
    "fig.set_size_inches((8,8))"
   ]
  },
  {
   "cell_type": "code",
   "execution_count": null,
   "id": "d96cbf0d-e60d-470c-8a5f-32af2034b8ae",
   "metadata": {},
   "outputs": [],
   "source": [
    "import atomap.initial_position_finding as ipf\n",
    "dumbbell_vector = ipf.find_dumbbell_vector(atom_positions)"
   ]
  },
  {
   "cell_type": "markdown",
   "id": "393cc1f4",
   "metadata": {},
   "source": [
    "> **`optimal_separation_d`**: separation in pixels to recognize the  dumbbell positions."
   ]
  },
  {
   "cell_type": "code",
   "execution_count": null,
   "id": "7531186e-f9db-4a20-a2a5-85239bf6998b",
   "metadata": {},
   "outputs": [],
   "source": [
    "#optimal_separation=float(input('optimal_separation: '))\n",
    "optimal_separation_d=24\n",
    "dumbbell_positions = am.get_atom_positions(s_normalised, optimal_separation_d,pca=True,subtract_background=True, normalize_intensity=True)\n",
    "sublattice = am.Sublattice(dumbbell_positions, s_normalised)\n",
    "sublattice.get_atom_list_on_image(markersize=5).plot()\n",
    "ax = plt.gca()\n",
    "ax.get_xaxis().set_visible(False)\n",
    "ax.get_yaxis().set_visible(False)\n",
    "fig = plt.gcf()\n",
    "fig.set_size_inches((8,8))"
   ]
  },
  {
   "cell_type": "markdown",
   "id": "51fb92b8",
   "metadata": {},
   "source": [
    "- Once we have found the optimal separation we can add or remove the missing dumbbell positions with the **`add_atoms_with_gui`** function."
   ]
  },
  {
   "cell_type": "code",
   "execution_count": null,
   "id": "37593c15",
   "metadata": {},
   "outputs": [],
   "source": [
    "dumbbell_positions = am.add_atoms_with_gui(s_normalised, dumbbell_positions,distance_threshold=10)\n",
    "ax = plt.gca()\n",
    "ax.get_xaxis().set_visible(False)\n",
    "ax.get_yaxis().set_visible(False)\n",
    "fig = plt.gcf()\n",
    "fig.set_size_inches((16,16))"
   ]
  },
  {
   "cell_type": "markdown",
   "id": "6604f002",
   "metadata": {},
   "source": [
    "- Dumbbell recognition:"
   ]
  },
  {
   "cell_type": "code",
   "execution_count": null,
   "id": "5b5132a4",
   "metadata": {},
   "outputs": [],
   "source": [
    "dumbbell_positions = np.asarray(dumbbell_positions)\n",
    "dumbbell_lattice = ipf.make_atom_lattice_dumbbell_structure(s_normalised, dumbbell_positions, dumbbell_vector)\n",
    "dumbbell_lattice.pixel_size=s_normalised.axes_manager[0].scale\n",
    "dumbbell_lattice.sublattice_list[0].pixel_size=s_normalised.axes_manager[0].scale\n",
    "dumbbell_lattice.sublattice_list[1].pixel_size=s_normalised.axes_manager[0].scale\n",
    "dumbbell_lattice.units=s_normalised.axes_manager[0].units\n",
    "dumbbell_lattice.sublattice_list[0].units=s_normalised.axes_manager[0].units\n",
    "dumbbell_lattice.sublattice_list[1].units=s_normalised.axes_manager[0].units\n"
   ]
  },
  {
   "cell_type": "code",
   "execution_count": null,
   "id": "5026ae82",
   "metadata": {},
   "outputs": [],
   "source": [
    "dumbbell_lattice.plot(markersize=5)\n",
    "ax = plt.gca()\n",
    "fig = plt.gcf()\n",
    "ax.set_title('')\n",
    "ax.images[-1].colorbar.remove()\n",
    "fig.set_size_inches((s_normalised.data.shape[1]/512,s_normalised.data.shape[0]/512))\n",
    "fig.subplots_adjust(left=0,right=1,bottom=0,top=1)\n",
    "ax.axis('off')"
   ]
  },
  {
   "cell_type": "code",
   "execution_count": null,
   "id": "ddd754ea",
   "metadata": {},
   "outputs": [],
   "source": [
    "plt.savefig(path+'\\\\dumbbells.png',dpi=512,transparent=True)\n",
    "dumbbell_lattice.save(path+'\\\\data.hdf5', overwrite=True)"
   ]
  },
  {
   "cell_type": "markdown",
   "id": "87a97218",
   "metadata": {},
   "source": [
    "# Filtering in frequency <a class=\"anchor\" id=\"frequency\"></a>\n",
    "\n",
    "> **`text`**; selected denoised image:\n",
    "- **`original_imag`** for original.\n",
    "- **`pca_imag`** for PCA.\n",
    "- **`nlm_imag`** for NL-means.\n",
    "- **`rl_imag`** for RL deconvolution.\n",
    "\n",
    "> **High-pass filter**: 2nd order butterworth filter with cutoff frequency ratio of 0.005.\n",
    "<br>\n",
    "> **Low-pass filter**: 4th order butterworth filter  with cutoff frequency ratio of 0.08."
   ]
  },
  {
   "cell_type": "code",
   "execution_count": null,
   "id": "f569d4c1",
   "metadata": {},
   "outputs": [],
   "source": [
    "from scipy import fft\n",
    "from skimage.filters import butterworth\n",
    "\n",
    "text='pca_imag'\n",
    "\n",
    "image=eval(text)[pixels_cropped:-pixels_cropped,pixels_cropped:-pixels_cropped]\n",
    "spectrum=fft.fftshift(fft.fft2(image))\n",
    "high_pass=np.mean(np.abs(fft.ifft2((fft.fft2(image)==fft.fft2(image)[0,0])*fft.fft2(image))))+butterworth(image,0.005,True,order=2)\n",
    "band_pass=butterworth(high_pass,0.08,False,order=4)\n",
    "np.save(path+'\\\\high_pass_'+text+'.npy',high_pass)\n",
    "np.save(path+'\\\\band_pass_'+text+'.npy',band_pass)\n",
    "fig,axs= plt.subplots(2,2,figsize=(16,16))\n",
    "img1=axs[0,0].imshow(image,cmap='gray')\n",
    "fig.colorbar(img1,shrink=0.4)\n",
    "img2=axs[0,1].imshow(high_pass,cmap='gray')\n",
    "fig.colorbar(img2,shrink=0.4)\n",
    "spectrum2=fft.fftshift(fft.fft2(high_pass))\n",
    "img3=axs[1,0].imshow(np.log(np.abs(spectrum)),cmap='gray',vmin=-7.5,vmax=15)\n",
    "fig.colorbar(img3,shrink=0.4)\n",
    "img4=axs[1,1].imshow(np.log(np.abs(spectrum2)),cmap='gray',vmin=-7.5,vmax=15)\n",
    "fig.colorbar(img4,shrink=0.4)\n",
    "axs[0,0].axis('off')\n",
    "axs[0,1].axis('off')\n",
    "axs[1,0].axis('off')\n",
    "axs[1,1].axis('off')\n",
    "plt.tight_layout()"
   ]
  },
  {
   "cell_type": "code",
   "execution_count": null,
   "id": "ab148885",
   "metadata": {},
   "outputs": [],
   "source": [
    "plt.savefig(path+'\\\\high_pass_'+text+'.png',dpi=600,transparent=True,bbox_inches='tight')\n",
    "\n",
    "fig,axs= plt.subplots(2,2,figsize=(16,16))\n",
    "img1=axs[0,0].imshow(image,cmap='gray')\n",
    "fig.colorbar(img1,shrink=0.4)\n",
    "img2=axs[0,1].imshow(band_pass,cmap='gray')\n",
    "fig.colorbar(img2,shrink=0.4)\n",
    "spectrum2=fft.fftshift(fft.fft2(band_pass))\n",
    "img3=axs[1,0].imshow(np.log(np.abs(spectrum)),cmap='gray',vmin=-7.5,vmax=15)\n",
    "fig.colorbar(img3,shrink=0.4)\n",
    "img4=axs[1,1].imshow(np.log(np.abs(spectrum2)),cmap='gray',vmin=-7.5,vmax=15)\n",
    "fig.colorbar(img4,shrink=0.4)\n",
    "axs[0,0].axis('off')\n",
    "axs[0,1].axis('off')\n",
    "axs[1,0].axis('off')\n",
    "axs[1,1].axis('off')\n",
    "plt.tight_layout()"
   ]
  },
  {
   "cell_type": "code",
   "execution_count": null,
   "id": "fedb521d",
   "metadata": {},
   "outputs": [],
   "source": [
    "plt.savefig(path+'\\\\band_pass_'+text+'.png',dpi=600,transparent=True,bbox_inches='tight')"
   ]
  }
 ],
 "metadata": {
  "kernelspec": {
   "display_name": "Python 3.8.15 ('python3.8')",
   "language": "python",
   "name": "python3"
  },
  "language_info": {
   "codemirror_mode": {
    "name": "ipython",
    "version": 3
   },
   "file_extension": ".py",
   "mimetype": "text/x-python",
   "name": "python",
   "nbconvert_exporter": "python",
   "pygments_lexer": "ipython3",
   "version": "3.10.11"
  },
  "toc-autonumbering": false,
  "toc-showcode": false,
  "toc-showmarkdowntxt": false,
  "toc-showtags": false,
  "vscode": {
   "interpreter": {
    "hash": "3d5233679e5f009830e016d354103bb8038e442abcd8e5cba8624c23aa13caaa"
   }
  },
  "widgets": {
   "application/vnd.jupyter.widget-state+json": {
    "state": {},
    "version_major": 2,
    "version_minor": 0
   }
  }
 },
 "nbformat": 4,
 "nbformat_minor": 5
}
