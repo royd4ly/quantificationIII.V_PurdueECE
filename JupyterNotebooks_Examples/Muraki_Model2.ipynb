{
 "cells": [
  {
   "attachments": {},
   "cell_type": "markdown",
   "id": "db3d20a3",
   "metadata": {},
   "source": [
    "# Import the required libraries <a class=\"anchor\" id=\"import_libraries\"></a>"
   ]
  },
  {
   "cell_type": "code",
   "execution_count": null,
   "id": "66a35896",
   "metadata": {},
   "outputs": [],
   "source": [
    "%matplotlib widget\n",
    "import hyperspy.api as hs\n",
    "import numpy as np\n",
    "import matplotlib.pyplot as plt\n",
    "import atomap.api as am\n",
    "import tkinter as tk\n",
    "from tkinter.filedialog import askdirectory\n",
    "import os\n",
    "hs.preferences.GUIs.warn_if_guis_are_missing = False\n",
    "hs.preferences.save()\n",
    "plt.rcParams['figure.figsize'] = (8,8)"
   ]
  },
  {
   "cell_type": "markdown",
   "id": "1a738013",
   "metadata": {},
   "source": [
    "# Normalization of the intensity profile <a class=\"anchor\" id=\"normalization_profile\"></a>\n",
    "\n",
    "- Loading the atom lattice:"
   ]
  },
  {
   "cell_type": "code",
   "execution_count": null,
   "id": "345f6650-2d3e-4218-8765-922326939dbe",
   "metadata": {},
   "outputs": [],
   "source": [
    "root = tk.Tk()\n",
    "root.attributes('-topmost',True)\n",
    "root.iconify()   \n",
    "file_path = askdirectory(parent=root)\n",
    "root.destroy()\n",
    "atom_lattice = am.load_atom_lattice_from_hdf5(file_path+'\\\\data.hdf5',construct_zone_axes=False)\n",
    "sublattice_A=atom_lattice.sublattice_list[0]\n",
    "sublattice_B=atom_lattice.sublattice_list[1]\n",
    "atom_lattice.units=atom_lattice.sublattice_list[0].units\n",
    "atom_lattice.pixel_size=atom_lattice.sublattice_list[0].pixel_size"
   ]
  },
  {
   "cell_type": "markdown",
   "id": "6d607996",
   "metadata": {},
   "source": [
    "> **`text`**; selected intensity map, for example:\n",
    "- **`im_A_high_pass_rl_imag`** for A intensity map of the RL deconvolution with high-pass image.\n",
    "- **`im_B_band_pass_pca_imag`** for B intensity map of the PCA with band-pass image.\n",
    "- ..."
   ]
  },
  {
   "cell_type": "code",
   "execution_count": null,
   "id": "b5d69883",
   "metadata": {},
   "outputs": [],
   "source": [
    "text='im_A_band_pass_pca_imag'\n",
    "\n",
    "intensity_map=np.load(file_path+'\\\\'+text+'.npy')\n",
    "avg_intensity=np.nanmean(intensity_map[:,:,0],axis=1)\n",
    "std_dev_intensity=np.nanstd(intensity_map[:,:,0],axis=1)\n",
    "avg_axis=np.nanmean(intensity_map[:,:,2],axis=1)*atom_lattice.pixel_size\n",
    "nominal_composition=1\n",
    "muraki_array=[]\n",
    "muraki_values=[]"
   ]
  },
  {
   "cell_type": "markdown",
   "id": "349b9363",
   "metadata": {},
   "source": [
    "- Intensity profile of the selected intensity map:"
   ]
  },
  {
   "cell_type": "code",
   "execution_count": null,
   "id": "39310d02-35a0-4649-aac5-b93b3f35460b",
   "metadata": {},
   "outputs": [],
   "source": [
    "plt.figure(figsize=(12,6))\n",
    "plt.plot(avg_axis,avg_intensity,'*--')\n",
    "plt.xlabel('Position ['+atom_lattice.units+']')\n",
    "plt.ylabel('Average composition')\n",
    "plt.show()"
   ]
  },
  {
   "cell_type": "markdown",
   "id": "cadeee15",
   "metadata": {},
   "source": [
    "Histogram to obtain:\n",
    "- Mean value of the barriers\n",
    "- Mean value of the quantum well"
   ]
  },
  {
   "cell_type": "code",
   "execution_count": null,
   "id": "0c11af49-8196-4beb-aede-26ec4980ce90",
   "metadata": {},
   "outputs": [],
   "source": [
    "from scipy.stats import binned_statistic\n",
    "from scipy.signal import find_peaks\n",
    "\n",
    "count_binned=binned_statistic(avg_intensity,avg_intensity, 'count', bins=12)\n",
    "bin_centers=(count_binned[1][1:] + count_binned[1][:-1])/2\n",
    "mean_binned=binned_statistic(avg_intensity,avg_intensity, 'mean', bins=12)\n",
    "pos_peaks, _ = find_peaks(count_binned[0], height=0)\n",
    "pos_peaks_sorted=pos_peaks[np.argsort(count_binned[0][pos_peaks])]\n",
    "peaks_sorted=mean_binned[0][pos_peaks_sorted]\n",
    "\n",
    "fig, (ax1, ax2) = plt.subplots(2, 1)\n",
    "ax1.plot(avg_axis,avg_intensity,'*--')\n",
    "ax1.set(xlabel='Position ['+atom_lattice.units+']',ylabel='Average intensity')\n",
    "for i in count_binned[1]:\n",
    "    ax1.plot(avg_axis,[i]*len(avg_intensity),linestyle='--',color='red',alpha=0.5)\n",
    "_, _, patches = ax2.hist(avg_intensity,bins=count_binned[1],color='lightblue')\n",
    "ax2.plot(bin_centers,count_binned[0],'*--')\n",
    "ax2.set(xlabel='Average intensity',ylabel='Histogram (Count)')\n",
    "fig.tight_layout()\n",
    "plt.show()"
   ]
  },
  {
   "cell_type": "markdown",
   "id": "6cf2878f",
   "metadata": {},
   "source": [
    "> **n_lower_limit**: bin index for the lower limit\n",
    "<br>\n",
    "> **n_upper_limit**: bin index for the upper limit"
   ]
  },
  {
   "cell_type": "code",
   "execution_count": null,
   "id": "e2e682b9",
   "metadata": {},
   "outputs": [],
   "source": [
    "n_lower_limit=2\n",
    "n_upper_limit=-4\n",
    "\n",
    "lower_limit,upper_limit=count_binned[1][n_lower_limit],count_binned[1][n_upper_limit]\n",
    "positions_l=np.where(avg_intensity<lower_limit)\n",
    "i_barriers=np.nanmean(avg_intensity[positions_l])\n",
    "positions_u=np.where(avg_intensity>upper_limit)\n",
    "i_quantum_well=np.nanmean(avg_intensity[positions_u])\n",
    "print('Mean intensity of the barriers: '+str(i_barriers))\n",
    "print('Mean intensity of the quantum well: '+str(i_quantum_well))"
   ]
  },
  {
   "cell_type": "markdown",
   "id": "98f42a39",
   "metadata": {},
   "source": [
    "- Selection of the region with the interfaces after normalization:"
   ]
  },
  {
   "cell_type": "code",
   "execution_count": null,
   "id": "8c0adfe1",
   "metadata": {},
   "outputs": [],
   "source": [
    "import matplotlib.pyplot as plt\n",
    "from matplotlib.widgets import SpanSelector\n",
    "from matplotlib import gridspec\n",
    "\n",
    "normalized_array=(intensity_map-i_barriers)/(i_quantum_well-i_barriers)\n",
    "avg_norm=np.nanmean(normalized_array[:,:,0],axis=1)\n",
    "std_dev_norm=np.nanstd(normalized_array[:,:,0],axis=1)\n",
    "\n",
    "fig = plt.figure(figsize=(14, 8)) \n",
    "gs = gridspec.GridSpec(1, 2, width_ratios=[2, 1]) \n",
    "ax0 = plt.subplot(gs[0])\n",
    "img1=ax0.plot(avg_norm,'*--')\n",
    "ax0.set(xlabel='Layer',ylabel='Average Composition')\n",
    "def onselect(xmin, xmax):\n",
    "    global x_pos \n",
    "    x_pos = np.array([xmin,xmax])\n",
    "span = SpanSelector(\n",
    "    ax0,\n",
    "    onselect,\n",
    "    \"horizontal\",\n",
    "    useblit=True,\n",
    "    props=dict(alpha=0.5, facecolor=\"tab:blue\"),\n",
    "    interactive=True,\n",
    "    drag_from_anywhere=True\n",
    ")\n",
    "ax1 = plt.subplot(gs[1])\n",
    "img2=ax1.scatter(intensity_map[:,:,1],intensity_map[:,:,2],s=20,c=normalized_array[:,:,0],cmap='jet',vmin=-0.25,vmax=1.25)\n",
    "fig.colorbar(img2,shrink=0.4,pad=0)\n",
    "ax1.axis('scaled')\n",
    "ax1.axis('off')\n",
    "ax1.set_ylim(ax1.get_ylim()[::-1]) \n",
    "plt.tight_layout()\n",
    "plt.show()"
   ]
  },
  {
   "cell_type": "code",
   "execution_count": null,
   "id": "b630226b",
   "metadata": {},
   "outputs": [],
   "source": [
    "muraki_positions=np.arange(x_pos[0]+1,x_pos[1]+1,dtype=int)\n",
    "muraki_signal=avg_norm[muraki_positions]\n",
    "std_dev=std_dev_norm[muraki_positions]\n",
    "sc=hs.signals.Signal1D(muraki_signal)\n",
    "print('Lower layer of the selection: '+str(muraki_positions[0]))\n",
    "print('Upper layer of the selection: '+str(muraki_positions[-1]))"
   ]
  },
  {
   "attachments": {},
   "cell_type": "markdown",
   "id": "06cf9fb7",
   "metadata": {},
   "source": [
    "## Fitting (one segregation coefficient): <a class=\"anchor\" id=\"fitting_1s\"></a>"
   ]
  },
  {
   "attachments": {},
   "cell_type": "markdown",
   "id": "50ddb103-c3d7-45df-8892-6787ee85666f",
   "metadata": {},
   "source": [
    "$$x(n) = \\Bigg\\{ \\begin{matrix} x_0(1-S^n): & 1 \\leq n \\leq N \\\\  x_0(1-S^N)S^{n-N}: & n>N \\end{matrix}$$"
   ]
  },
  {
   "cell_type": "markdown",
   "id": "da52fdaa",
   "metadata": {},
   "source": [
    "- Build of the Muraki model for one segregation coefficient:"
   ]
  },
  {
   "cell_type": "code",
   "execution_count": null,
   "id": "c0b2ee45",
   "metadata": {},
   "outputs": [],
   "source": [
    "from hyperspy.component import Component\n",
    "class Muraki(Component):\n",
    "    def __init__(self, parameter_1=1, parameter_2=2, parameter_3=3):\n",
    "        Component.__init__(self, ('x0', 's', 'N'))\n",
    "        self.x0.value = 1.5\n",
    "        self.s.value = 0.5\n",
    "        self.N.value = 5\n",
    "        self.x0.bmin = 0\n",
    "        self.x0.bmax = 1\n",
    "        self.s.bmin = 0\n",
    "        self.s.bmax = 1\n",
    "        self.N.bmin = 0\n",
    "        self.N.bmax = 50\n",
    "    def function(self, x):\n",
    "        x0 = self.x0.value\n",
    "        s = self.s.value\n",
    "        N = self.N.value\n",
    "        return np.piecewise(x,[((x >= 1.0) & (x<= N)),x >= N],[lambda x : x0*(1.0 -s**x), lambda x: x0*(1 -s**x)*s**(x-N)])"
   ]
  },
  {
   "cell_type": "code",
   "execution_count": null,
   "id": "e34e3b48",
   "metadata": {},
   "outputs": [],
   "source": [
    "muraki_model = sc.create_model()\n",
    "muraki = Muraki()\n",
    "muraki_model.append(muraki)\n",
    "muraki_model.fit()\n",
    "muraki_model.print_current_values()\n",
    "muraki1_values=muraki.__dict__"
   ]
  },
  {
   "cell_type": "markdown",
   "id": "8b237bfc",
   "metadata": {},
   "source": [
    "- Plot of the fitted model and the input data:"
   ]
  },
  {
   "cell_type": "code",
   "execution_count": null,
   "id": "fe294995-8697-4fa9-901b-3ca2c9324c21",
   "metadata": {},
   "outputs": [],
   "source": [
    "from sklearn.metrics import r2_score\n",
    "\n",
    "def f(x,x0,s,N):\n",
    "    return np.piecewise(x,[((x >= 1.0) & (x<= N)),x >= N],[lambda x : x0*(1.0 -s**x), lambda x: x0*(1 -s**x)*s**(x-N)])\n",
    "x=np.arange(0,len(sc.data),dtype=float)\n",
    "y_pred=f(x,muraki.x0.value,muraki.s.value,muraki.N.value)\n",
    "r2_parameter=r2_score(sc.data[0::], y_pred[0::])\n",
    "\n",
    "from matplotlib.offsetbox import AnchoredText\n",
    "\n",
    "plt.figure()\n",
    "values1={'x':x,'muraki_positions':muraki_positions,'y_pred':y_pred,'r2_parameter':r2_parameter}\n",
    "plt.plot(avg_axis[np.arange(0,len(avg_intensity))],avg_norm,'*--')\n",
    "plt.plot(avg_axis[x.astype(int)+muraki_positions[0]],y_pred,'-',color='red')\n",
    "plt.xlabel('Position [nm]')\n",
    "plt.ylabel('Average Composition')\n",
    "plt.minorticks_on()\n",
    "plot=plt.gca()\n",
    "label='$R^2 = $'+str(np.round(r2_parameter,3))\n",
    "at = AnchoredText(label, prop=dict(size=10), frameon=True, loc='upper right')\n",
    "at.patch.set(edgecolor='lightgray')\n",
    "at.patch.set_boxstyle('round,pad=0.,rounding_size=0.1')\n",
    "plot.add_artist(at)\n",
    "plt.show()"
   ]
  },
  {
   "attachments": {},
   "cell_type": "markdown",
   "id": "b213a1b0-817e-4f1c-bab0-62c9b1e1bf1d",
   "metadata": {},
   "source": [
    "## Fitting (two segregation coefficients): <a class=\"anchor\" id=\"fitting_2s\"></a>"
   ]
  },
  {
   "attachments": {},
   "cell_type": "markdown",
   "id": "3f0f9494-20d1-4d10-879e-ca6a1194a841",
   "metadata": {},
   "source": [
    "$$x(n) = \\Bigg\\{ \\begin{matrix} x_0(1-S^n_{l}): & 1 \\leq n \\leq N \\\\  x_0(1-S^N_l)S^{n-N}_u: & n>N \\end{matrix}$$"
   ]
  },
  {
   "cell_type": "markdown",
   "id": "db9fab56",
   "metadata": {},
   "source": [
    "- Build of the Muraki model for two segregation coefficients:"
   ]
  },
  {
   "cell_type": "code",
   "execution_count": null,
   "id": "0b2ca805-e498-411f-9f41-81a46581c7c9",
   "metadata": {},
   "outputs": [],
   "source": [
    "class Muraki2(Component):\n",
    "    def __init__(self, parameter_1=1, parameter_2=2, parameter_3=3, parameter_4=4):\n",
    "        Component.__init__(self, ('x0', 's1', 's2', 'N'))\n",
    "        self.x0.value = 1.25\n",
    "        self.s1.value = 0.5\n",
    "        self.s2.value = 0.5\n",
    "        self.N.value = 4\n",
    "        self.x0.bmin = 0\n",
    "        self.x0.bmax = 1\n",
    "        self.s1.bmin = 0\n",
    "        self.s1.bmax = 1\n",
    "        self.s2.bmin = 0\n",
    "        self.s2.bmax = 1\n",
    "        self.N.bmin = 0\n",
    "        self.N.bmax = 50\n",
    "    def function(self, x):\n",
    "        x0 = self.x0.value\n",
    "        s1 = self.s1.value\n",
    "        s2 = self.s2.value\n",
    "        N = self.N.value\n",
    "        return np.piecewise(x,[((x >= 1.0) & (x<= N)),x >= N],[lambda x : x0*(1.0 -s1**x), lambda x: x0*(1 -s2**x)*s2**(x-N)])"
   ]
  },
  {
   "cell_type": "code",
   "execution_count": null,
   "id": "8725507f-b502-4980-b7e6-307571507966",
   "metadata": {},
   "outputs": [],
   "source": [
    "muraki_model = sc.create_model()\n",
    "muraki = Muraki2()\n",
    "muraki_model.append(muraki)\n",
    "muraki_model.fit()\n",
    "muraki_model.print_current_values()\n",
    "muraki2_values=muraki.__dict__"
   ]
  },
  {
   "cell_type": "markdown",
   "id": "3de5a4a3",
   "metadata": {},
   "source": [
    "- Plot of the fitted model and the input data:"
   ]
  },
  {
   "cell_type": "code",
   "execution_count": null,
   "id": "181301c9-163a-403e-99ba-33a2a1f58295",
   "metadata": {},
   "outputs": [],
   "source": [
    "def f(x,x0,s1,s2,N):\n",
    "    return np.piecewise(x,[((x >= 1.0) & (x<= N)),x >= N],[lambda x : x0*(1.0 -s1**x), lambda x: x0*(1 -s2**x)*s2**(x-N)])\n",
    "x=np.arange(0,len(sc.data),dtype=float)\n",
    "y_pred=f(x,muraki.x0.value,muraki.s1.value,muraki.s2.value,muraki.N.value)\n",
    "r2_parameter=r2_score(sc.data[1::], y_pred[1::])\n",
    "\n",
    "plt.figure()\n",
    "values2={'x':x,'muraki_positions':muraki_positions,'y_pred':y_pred,'r2_parameter':r2_parameter}\n",
    "plt.plot(avg_axis[np.arange(0,len(avg_intensity))],avg_norm,'*--')\n",
    "plt.plot(avg_axis[x.astype(int)+muraki_positions[0]],y_pred,'-',color='red')\n",
    "plt.xlabel('Position [nm]')\n",
    "plt.ylabel('Average Composition')\n",
    "plt.minorticks_on()\n",
    "plot=plt.gca()\n",
    "label='$R^2 = $'+str(np.round(r2_parameter,3))\n",
    "at = AnchoredText(label, prop=dict(size=10), frameon=True, loc='upper right')\n",
    "at.patch.set(edgecolor='lightgray')\n",
    "at.patch.set_boxstyle('round,pad=0.,rounding_size=0.1')\n",
    "plot.add_artist(at)\n",
    "plt.show()"
   ]
  },
  {
   "cell_type": "markdown",
   "id": "c58e520c",
   "metadata": {},
   "source": [
    "- Add the values to a single list to fit the next peak."
   ]
  },
  {
   "cell_type": "code",
   "execution_count": null,
   "id": "625632c3",
   "metadata": {},
   "outputs": [],
   "source": [
    "muraki_array.append([muraki1_values,muraki2_values])\n",
    "muraki_values.append([values1,values2])"
   ]
  },
  {
   "cell_type": "markdown",
   "id": "03d0ec77",
   "metadata": {},
   "source": [
    "## Plot all the fits <a class=\"anchor\" id=\"plot_fits\"></a>"
   ]
  },
  {
   "cell_type": "markdown",
   "id": "7414e613",
   "metadata": {},
   "source": [
    "- Save to a .csv file"
   ]
  },
  {
   "cell_type": "code",
   "execution_count": null,
   "id": "2a4257e0",
   "metadata": {},
   "outputs": [],
   "source": [
    "muraki_array=np.asarray(muraki_array)\n",
    "muraki_values=np.asarray(muraki_values)\n",
    "matrix = np.empty(shape=muraki_array.shape, dtype='object')\n",
    "for i,j in [(x,y) for x in range(muraki_array.shape[0]) for y in range(muraki_array.shape[1])]:\n",
    "    muraki_dict={}\n",
    "    for k in muraki_array[i,j]['parameters']:\n",
    "        muraki_dict[k.name]=(muraki_array[i,j][k.name].value,muraki_array[i,j][k.name].std)\n",
    "        muraki_dict['r2_parameter']=muraki_values[i,j]['r2_parameter']\n",
    "    matrix[i,j]=muraki_dict\n",
    "\n",
    "import pandas as pd\n",
    "\n",
    "fringes=['F'+k for k in np.arange(1,matrix.shape[0]+1).astype(str)]\n",
    "df = pd.DataFrame(matrix, columns = ['S1','S1 and S2'], index = fringes)\n",
    "df.to_csv(file_path+'\\\\muraki_values.csv')\n",
    "\n",
    "r2_sum1=0\n",
    "for i in np.arange(matrix.shape[0]):\n",
    "    r2_sum1=r2_sum1+matrix[i,0]['r2_parameter']\n",
    "r2_sum1=r2_sum1/matrix.shape[0]\n",
    "r2_sum2=0\n",
    "for i in np.arange(matrix.shape[0]):\n",
    "    r2_sum2=r2_sum2+matrix[i,1]['r2_parameter']\n",
    "r2_sum2=r2_sum2/matrix.shape[0]"
   ]
  },
  {
   "cell_type": "markdown",
   "id": "32fe1a67",
   "metadata": {},
   "source": [
    "- One segregation coefficient:"
   ]
  },
  {
   "cell_type": "code",
   "execution_count": null,
   "id": "58fdf39d",
   "metadata": {},
   "outputs": [],
   "source": [
    "plt.figure()\n",
    "plt.plot(avg_axis[np.arange(0,len(avg_intensity))],avg_norm,'*--',alpha=0.5)\n",
    "s_model=1\n",
    "for i in range (len(muraki_values)):\n",
    "    plt.plot(avg_axis[muraki_values[i][s_model-1]['x'].astype(int)+muraki_values[i][s_model-1]['muraki_positions'][0]],muraki_values[i][s_model-1]['y_pred'],'--',color='red')\n",
    "\n",
    "from matplotlib.offsetbox import AnchoredText\n",
    "\n",
    "plt.xlabel('Position [nm]')\n",
    "plt.ylabel('Average Composition')\n",
    "plt.minorticks_on()\n",
    "plot=plt.gca()\n",
    "label='$R^2 = $'+str(np.round(r2_sum1,3))\n",
    "at = AnchoredText(label, prop=dict(size=10), frameon=True, loc='upper right')\n",
    "at.patch.set(edgecolor='lightgray')\n",
    "at.patch.set_boxstyle('round,pad=0.,rounding_size=0.1')\n",
    "plot.add_artist(at)\n",
    "plt.show()"
   ]
  },
  {
   "cell_type": "code",
   "execution_count": null,
   "id": "c205f5be",
   "metadata": {},
   "outputs": [],
   "source": [
    "plt.savefig(file_path+'\\\\muraki_1s_'+text+'.png',dpi=300,transparent=True,bbox_inches='tight')"
   ]
  },
  {
   "cell_type": "markdown",
   "id": "c1d6ddc3",
   "metadata": {},
   "source": [
    "- Two segregation coefficients:"
   ]
  },
  {
   "cell_type": "code",
   "execution_count": null,
   "id": "12f7f29e",
   "metadata": {},
   "outputs": [],
   "source": [
    "plt.figure()\n",
    "plt.plot(avg_axis[np.arange(0,len(avg_intensity))],avg_norm,'*--',alpha=0.5)\n",
    "s_model=2\n",
    "for i in range (len(muraki_values)):\n",
    "    plt.plot(avg_axis[muraki_values[i][s_model-1]['x'].astype(int)+muraki_values[i][s_model-1]['muraki_positions'][0]],muraki_values[i][s_model-1]['y_pred'],'--',color='red')\n",
    "\n",
    "from matplotlib.offsetbox import AnchoredText\n",
    "\n",
    "plt.xlabel('Position [nm]')\n",
    "plt.ylabel('Average Composition')\n",
    "plt.minorticks_on()\n",
    "plot=plt.gca()\n",
    "label='$R^2 = $'+str(np.round(r2_sum2,3))\n",
    "at = AnchoredText(label, prop=dict(size=10), frameon=True, loc='upper right')\n",
    "at.patch.set(edgecolor='lightgray')\n",
    "at.patch.set_boxstyle('round,pad=0.,rounding_size=0.1')\n",
    "plot.add_artist(at)\n",
    "plt.show()"
   ]
  },
  {
   "cell_type": "code",
   "execution_count": null,
   "id": "722172a0",
   "metadata": {},
   "outputs": [],
   "source": [
    "plt.savefig(file_path+'\\\\muraki_2s_'+text+'.png',dpi=300,transparent=True,bbox_inches='tight')"
   ]
  }
 ],
 "metadata": {
  "kernelspec": {
   "display_name": "Python 3.7.1 ('base')",
   "language": "python",
   "name": "python3"
  },
  "language_info": {
   "codemirror_mode": {
    "name": "ipython",
    "version": 3
   },
   "file_extension": ".py",
   "mimetype": "text/x-python",
   "name": "python",
   "nbconvert_exporter": "python",
   "pygments_lexer": "ipython3",
   "version": "3.10.11"
  },
  "toc-autonumbering": false,
  "toc-showcode": false,
  "toc-showmarkdowntxt": false,
  "toc-showtags": false,
  "vscode": {
   "interpreter": {
    "hash": "19d1d53a962d236aa061289c2ac16dc8e6d9648c89fe79f459ae9a3493bc67b4"
   }
  },
  "widgets": {
   "application/vnd.jupyter.widget-state+json": {
    "state": {},
    "version_major": 2,
    "version_minor": 0
   }
  }
 },
 "nbformat": 4,
 "nbformat_minor": 5
}
