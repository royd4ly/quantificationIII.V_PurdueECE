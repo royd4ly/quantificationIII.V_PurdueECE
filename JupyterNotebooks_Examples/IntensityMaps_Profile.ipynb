{
 "cells": [
  {
   "cell_type": "markdown",
   "metadata": {},
   "source": [
    "# Import the required libraries <a class=\"anchor\" id=\"import_libraries\"></a>"
   ]
  },
  {
   "cell_type": "code",
   "execution_count": null,
   "metadata": {},
   "outputs": [],
   "source": [
    "%matplotlib widget\n",
    "import hyperspy.api as hs\n",
    "import numpy as np\n",
    "import matplotlib.pyplot as plt\n",
    "import atomap.api as am\n",
    "import tkinter as tk\n",
    "from tkinter.filedialog import askdirectory\n",
    "import os\n",
    "hs.preferences.GUIs.warn_if_guis_are_missing = False\n",
    "hs.preferences.save()\n",
    "plt.rcParams['figure.figsize'] = (8,8)"
   ]
  },
  {
   "cell_type": "markdown",
   "metadata": {},
   "source": [
    "# Intensity Maps <a class=\"anchor\" id=\"intensity_maps\"></a>\n",
    "\n",
    "- Loading the atom lattice:"
   ]
  },
  {
   "cell_type": "code",
   "execution_count": null,
   "metadata": {},
   "outputs": [],
   "source": [
    "root = tk.Tk()\n",
    "root.attributes('-topmost',True)\n",
    "root.iconify()   \n",
    "file_path = askdirectory(parent=root)\n",
    "root.destroy()\n",
    "atom_lattice = am.load_atom_lattice_from_hdf5(file_path+'\\\\data.hdf5',construct_zone_axes=False)\n",
    "sublattice_A=atom_lattice.sublattice_list[1]\n",
    "sublattice_B=atom_lattice.sublattice_list[0]\n",
    "atom_lattice.units=atom_lattice.sublattice_list[0].units\n",
    "atom_lattice.pixel_size=atom_lattice.sublattice_list[0].pixel_size\n",
    "atom_lattice.plot(markersize=5)\n",
    "ax = plt.gca()\n",
    "fig=plt.gcf()\n",
    "fig.set_size_inches((12,10))\n",
    "ax.get_xaxis().set_visible(False)\n",
    "ax.get_yaxis().set_visible(False)"
   ]
  },
  {
   "cell_type": "markdown",
   "metadata": {},
   "source": [
    "> **`text`**; selected processed image:\n",
    "- **`high_pass_original_imag`** for high-pass only.\n",
    "- **`band_pass_original_imag`** for band-pass only.\n",
    "- **`high_pass_pca_imag`** for PCA with high-pass.\n",
    "- **`band_pass_pca_imag`** for PCA with band-pass.\n",
    "- **`high_pass_nlm_imag`** for NL-means with high-pass.\n",
    "- **`band_pass_nlm_imag`** for NL-means with band-pass.\n",
    "- **`high_pass_rl_imag`** for RL deconvolution with band-pass.\n",
    "- **`band_pass_rl_imag`** for RL deconvolution with band-pass."
   ]
  },
  {
   "cell_type": "code",
   "execution_count": null,
   "metadata": {},
   "outputs": [],
   "source": [
    "text='band_pass_pca_imag'\n",
    "\n",
    "if  text!='':\n",
    "    sublattice_A.original_image=np.load(file_path+'\\\\'+text+'.npy')\n",
    "sublattice_A.find_nearest_neighbors(nearest_neighbors=15)\n",
    "sublattice_A._pixel_separation = sublattice_A._get_pixel_separation()\n",
    "sublattice_A._make_translation_symmetry()\n",
    "if ((0,0) in sublattice_A.zones_axis_average_distances):\n",
    "    index=sublattice_A.zones_axis_average_distances.index((0,0))\n",
    "    sublattice_A.zones_axis_average_distances.remove(sublattice_A.zones_axis_average_distances[index])\n",
    "    sublattice_A.zones_axis_average_distances_names.remove(sublattice_A.zones_axis_average_distances_names[index])\n",
    "sublattice_A._generate_all_atom_plane_list(atom_plane_tolerance=1.5)\n",
    "sublattice_A._sort_atom_planes_by_zone_vector()\n",
    "sublattice_A._remove_bad_zone_vectors()"
   ]
  },
  {
   "cell_type": "markdown",
   "metadata": {},
   "source": [
    "> **`direction`**: zone axis index."
   ]
  },
  {
   "cell_type": "code",
   "execution_count": null,
   "metadata": {},
   "outputs": [],
   "source": [
    "direction=2\n",
    "\n",
    "zone_vector = sublattice_A.zones_axis_average_distances[direction]\n",
    "atom_planes = sublattice_A.atom_planes_by_zone_vector[zone_vector]\n",
    "zone_axis = sublattice_A.get_atom_planes_on_image(atom_planes)\n",
    "zone_axis.plot()\n",
    "ax = plt.gca()\n",
    "fig=plt.gcf()\n",
    "fig.set_size_inches((10,10))\n",
    "ax.get_xaxis().set_visible(False)\n",
    "ax.get_yaxis().set_visible(False)\n",
    "plt.show()"
   ]
  },
  {
   "cell_type": "markdown",
   "metadata": {},
   "source": [
    "- Intensity map of the sublattice A:"
   ]
  },
  {
   "cell_type": "code",
   "execution_count": null,
   "metadata": {},
   "outputs": [],
   "source": [
    "sublattice_A.find_sublattice_intensity_from_masked_image(sublattice_A.original_image,radius=7)\n",
    "zone_axis_A = sublattice_A.zones_axis_average_distances[direction]\n",
    "atom_plane_list_A = sublattice_A.atom_planes_by_zone_vector[zone_axis_A]\n",
    "intensity_A=[]\n",
    "x_values=[]\n",
    "y_values=[]\n",
    "for i in range(0,len(atom_plane_list_A)):\n",
    "    atomplane=atom_plane_list_A[i]\n",
    "    plane_intensity=[]\n",
    "    x_values_plane=[]\n",
    "    y_values_plane=[]\n",
    "    for j in range(0, len(atomplane.atom_list)):\n",
    "        atom=atomplane.atom_list[j]\n",
    "        x_pos,y_pos=atom.get_pixel_position()\n",
    "        intensity=atom.intensity_mask\n",
    "        plane_intensity.append(intensity)\n",
    "        x_values_plane.append(x_pos)\n",
    "        y_values_plane.append(y_pos)\n",
    "    intensity_A.append(plane_intensity)\n",
    "    x_values.append(x_values_plane)\n",
    "    y_values.append(y_values_plane)\n",
    "\n",
    "intensity_A_array = np.zeros([len(intensity_A),len(max(intensity_A,key = lambda x: len(x)))])\n",
    "intensity_A_array[:] = np.nan\n",
    "for i,j in enumerate(intensity_A):\n",
    "    intensity_A_array[i][0:len(j)] = j\n",
    "\n",
    "x_values_array = np.zeros([len(x_values),len(max(x_values,key = lambda x: len(x)))])\n",
    "x_values_array[:] = np.nan\n",
    "for i,j in enumerate(x_values):\n",
    "    x_values_array[i][0:len(j)] = j\n",
    "\n",
    "y_values_array = np.zeros([len(y_values),len(max(y_values,key = lambda x: len(x)))])\n",
    "y_values_array[:] = np.nan\n",
    "for i,j in enumerate(y_values):\n",
    "    y_values_array[i][0:len(j)] = j\n",
    "    \n",
    "intensity_A=np.stack((intensity_A_array,x_values_array,y_values_array),axis=2)"
   ]
  },
  {
   "cell_type": "code",
   "execution_count": null,
   "metadata": {},
   "outputs": [],
   "source": [
    "plt.figure(figsize=(6,8))\n",
    "plt.scatter(intensity_A[:,:,1],intensity_A[:,:,2],s=20,c=intensity_A[:,:,0],cmap='jet')\n",
    "plt.colorbar(shrink=0.5,pad=-0.18)\n",
    "plt.axis('scaled')\n",
    "plt.axis('off')\n",
    "ax=plt.gca()\n",
    "ax.set_ylim(ax.get_ylim()[::-1]) \n",
    "ax.xaxis.tick_top() \n",
    "ax.yaxis.tick_left()\n",
    "plt.tight_layout()\n",
    "plt.show()"
   ]
  },
  {
   "cell_type": "code",
   "execution_count": null,
   "metadata": {},
   "outputs": [],
   "source": [
    "plt.savefig(file_path+'\\\\im_A_'+text+'.png',dpi=300,transparent=True,bbox_inches='tight')\n",
    "np.save(file_path+'\\\\im_A_'+text+'.npy',intensity_A)"
   ]
  },
  {
   "cell_type": "markdown",
   "metadata": {},
   "source": [
    "- Same process for sublattice B:"
   ]
  },
  {
   "cell_type": "code",
   "execution_count": null,
   "metadata": {},
   "outputs": [],
   "source": [
    "if  text!='':\n",
    "    sublattice_B.original_image=np.load(file_path+'\\\\'+text+'.npy')\n",
    "sublattice_B.find_nearest_neighbors(nearest_neighbors=15)\n",
    "sublattice_B._pixel_separation = sublattice_B._get_pixel_separation()\n",
    "sublattice_B._make_translation_symmetry()\n",
    "if ((0,0) in sublattice_B.zones_axis_average_distances):\n",
    "    index=sublattice_B.zones_axis_average_distances.index((0,0))\n",
    "    sublattice_B.zones_axis_average_distances.remove(sublattice_B.zones_axis_average_distances[index])\n",
    "    sublattice_B.zones_axis_average_distances_names.remove(sublattice_B.zones_axis_average_distances_names[index])\n",
    "sublattice_B._generate_all_atom_plane_list(atom_plane_tolerance=1.5)\n",
    "sublattice_B._sort_atom_planes_by_zone_vector()\n",
    "sublattice_B._remove_bad_zone_vectors()"
   ]
  },
  {
   "cell_type": "markdown",
   "metadata": {},
   "source": [
    "> **`direction`**: zone axis index."
   ]
  },
  {
   "cell_type": "code",
   "execution_count": null,
   "metadata": {},
   "outputs": [],
   "source": [
    "direction=2\n",
    "\n",
    "zone_vector = sublattice_B.zones_axis_average_distances[direction]\n",
    "atom_planes = sublattice_B.atom_planes_by_zone_vector[zone_vector]\n",
    "zone_axis = sublattice_B.get_atom_planes_on_image(atom_planes)\n",
    "zone_axis.plot()\n",
    "ax = plt.gca()\n",
    "fig=plt.gcf()\n",
    "fig.set_size_inches((10,10))\n",
    "ax.get_xaxis().set_visible(False)\n",
    "ax.get_yaxis().set_visible(False)\n",
    "plt.show()"
   ]
  },
  {
   "cell_type": "markdown",
   "metadata": {},
   "source": [
    "- Intensity map of the sublattice B:"
   ]
  },
  {
   "cell_type": "code",
   "execution_count": null,
   "metadata": {},
   "outputs": [],
   "source": [
    "sublattice_B.find_sublattice_intensity_from_masked_image(sublattice_B.original_image,radius=5)\n",
    "zone_axis_B = sublattice_B.zones_axis_average_distances[direction]\n",
    "atom_plane_list_B = sublattice_B.atom_planes_by_zone_vector[zone_axis_B]\n",
    "intensity_B=[]\n",
    "x_values=[]\n",
    "y_values=[]\n",
    "for i in range(0,len(atom_plane_list_B)):\n",
    "    atomplane=atom_plane_list_B[i]\n",
    "    plane_intensity=[]\n",
    "    x_values_plane=[]\n",
    "    y_values_plane=[]\n",
    "    for j in range(0, len(atomplane.atom_list)):\n",
    "        atom=atomplane.atom_list[j]\n",
    "        x_pos,y_pos=atom.get_pixel_position()\n",
    "        intensity=atom.intensity_mask\n",
    "        plane_intensity.append(intensity)\n",
    "        x_values_plane.append(x_pos)\n",
    "        y_values_plane.append(y_pos)\n",
    "    intensity_B.append(plane_intensity)\n",
    "    x_values.append(x_values_plane)\n",
    "    y_values.append(y_values_plane)\n",
    "\n",
    "intensity_B_array = np.zeros([len(intensity_B),len(max(intensity_B,key = lambda x: len(x)))])\n",
    "intensity_B_array[:] = np.nan\n",
    "for i,j in enumerate(intensity_B):\n",
    "    intensity_B_array[i][0:len(j)] = j\n",
    "\n",
    "x_values_array = np.zeros([len(x_values),len(max(x_values,key = lambda x: len(x)))])\n",
    "x_values_array[:] = np.nan\n",
    "for i,j in enumerate(x_values):\n",
    "    x_values_array[i][0:len(j)] = j\n",
    "\n",
    "y_values_array = np.zeros([len(y_values),len(max(y_values,key = lambda x: len(x)))])\n",
    "y_values_array[:] = np.nan\n",
    "for i,j in enumerate(y_values):\n",
    "    y_values_array[i][0:len(j)] = j\n",
    "    \n",
    "intensity_B=np.stack((intensity_B_array,x_values_array,y_values_array),axis=2)"
   ]
  },
  {
   "cell_type": "code",
   "execution_count": null,
   "metadata": {},
   "outputs": [],
   "source": [
    "plt.figure(figsize=(6,8))\n",
    "plt.scatter(intensity_B[:,:,1],intensity_B[:,:,2],s=20,c=intensity_B[:,:,0],cmap='gnuplot')\n",
    "plt.colorbar(shrink=0.5,pad=-0.18)\n",
    "plt.axis('scaled')\n",
    "plt.axis('off')\n",
    "ax=plt.gca()\n",
    "ax.xaxis.tick_top() \n",
    "ax.yaxis.tick_left()\n",
    "plt.tight_layout()\n",
    "ax.set_ylim(ax.get_ylim()[::-1]) \n",
    "plt.show()"
   ]
  },
  {
   "cell_type": "code",
   "execution_count": null,
   "metadata": {},
   "outputs": [],
   "source": [
    "plt.savefig(file_path+'\\\\im_B_'+text+'.png',dpi=300,transparent=True,bbox_inches='tight')\n",
    "np.save(file_path+'\\\\im_B_'+text+'.npy',intensity_B)"
   ]
  },
  {
   "cell_type": "markdown",
   "metadata": {},
   "source": [
    "- Atom positions:"
   ]
  },
  {
   "cell_type": "code",
   "execution_count": null,
   "metadata": {},
   "outputs": [],
   "source": [
    "plt.figure(figsize=(12,10))\n",
    "plt.imshow(atom_lattice.original_image,cmap='gray')\n",
    "plt.scatter(intensity_A[:,:,1],intensity_A[:,:,2],s=20,c='red',alpha=0.25)\n",
    "plt.scatter(intensity_B[:,:,1],intensity_B[:,:,2],s=20,c='blue',alpha=0.25)\n",
    "plt.axis('scaled')\n",
    "plt.axis('off')\n",
    "ax=plt.gca()\n",
    "ax.xaxis.tick_top() \n",
    "ax.yaxis.tick_left()\n",
    "plt.tight_layout()"
   ]
  },
  {
   "cell_type": "code",
   "execution_count": null,
   "metadata": {},
   "outputs": [],
   "source": [
    "plt.savefig(file_path+'\\\\intensitymap_all.png',dpi=300,transparent=True,bbox_inches='tight')"
   ]
  },
  {
   "cell_type": "markdown",
   "metadata": {},
   "source": [
    "## Composition profile <a class=\"anchor\" id=\"composition_profile\"></a>"
   ]
  },
  {
   "cell_type": "code",
   "execution_count": null,
   "metadata": {},
   "outputs": [],
   "source": [
    "avg_intensity=np.nanmean(intensity_A[:,:,0],axis=1)\n",
    "avg_std=np.nanstd(intensity_A[:,:,0],axis=1)\n",
    "avg_axis=np.nanmean(intensity_A[:,:,2],axis=1)*atom_lattice.pixel_size\n",
    "avg_intensity1=np.nanmean(intensity_B[:,:,0],axis=1)\n",
    "avg_std1=np.nanstd(intensity_B[:,:,0],axis=1)\n",
    "avg_axis1=np.nanmean(intensity_B[:,:,2],axis=1)*atom_lattice.pixel_size\n",
    "plt.figure(figsize=(12,6))\n",
    "plt.errorbar(avg_axis,avg_intensity, yerr=avg_std, ecolor='lightcoral',marker='.',fmt=':', capsize=3,alpha=0.75, mec='red',mfc='red',color='red' )\n",
    "plt.fill_between(avg_axis,avg_intensity-avg_std,avg_intensity+avg_std, alpha=.25, color='lightcoral')\n",
    "plt.errorbar(avg_axis1,avg_intensity1, yerr=avg_std1, ecolor='lightblue',marker='.',fmt=':', capsize=3,alpha=0.75, mec='skyblue',mfc='skyblue',color='skyblue' )\n",
    "plt.fill_between(avg_axis1,avg_intensity1-avg_std1,avg_intensity1+avg_std1, alpha=.25, color='lightblue')\n",
    "plt.xlabel('Position [nm]')\n",
    "plt.ylabel('Intensity')\n",
    "plt.minorticks_on()\n",
    "plt.grid(which='both',linestyle='--',color='gray',alpha=0.5)\n",
    "ax=plt.gca()\n",
    "plt.show()"
   ]
  },
  {
   "cell_type": "code",
   "execution_count": null,
   "metadata": {},
   "outputs": [],
   "source": [
    "textA='A_'+str(round(np.mean(avg_intensity),7))+'+-'+str(round(np.std(avg_intensity),7))+'^'+str(round(np.mean(avg_std),7))\n",
    "textB='B_'+str(round(np.mean(avg_intensity1),7))+'+-'+str(round(np.std(avg_intensity1),7))+'^'+str(round(np.mean(avg_std1),7))\n",
    "plt.savefig(file_path+'\\\\ip_'+text+'.png',dpi=300,transparent=True,bbox_inches='tight')\n",
    "os.rename(file_path+'\\\\im_A_'+text+'.png',file_path+'\\\\A_'+text+textA+'.png')\n",
    "os.rename(file_path+'\\\\im_B_'+text+'.png',file_path+'\\\\B_'+text+textB+'.png')"
   ]
  }
 ],
 "metadata": {
  "kernelspec": {
   "display_name": "Python 3",
   "language": "python",
   "name": "python3"
  },
  "language_info": {
   "codemirror_mode": {
    "name": "ipython",
    "version": 3
   },
   "file_extension": ".py",
   "mimetype": "text/x-python",
   "name": "python",
   "nbconvert_exporter": "python",
   "pygments_lexer": "ipython3",
   "version": "3.10.11"
  }
 },
 "nbformat": 4,
 "nbformat_minor": 2
}
